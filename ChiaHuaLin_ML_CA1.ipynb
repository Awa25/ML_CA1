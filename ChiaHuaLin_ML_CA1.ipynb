{
 "cells": [
  {
   "cell_type": "markdown",
   "id": "428d88bb",
   "metadata": {},
   "source": [
    "**<font size=5> Module Title: Machine Learning for AI </font>**\n",
    "\n",
    "**<font size=5> Assessment Title: ML_CA1 </font>**\n",
    "\n",
    "**<font size=4> Lecturer Name: Dr. David McQuaid </font>**\n",
    "\n",
    "**<font size=4> Student Name: Chia Hua Lin &emsp; &emsp; ID: 2020044 </font>**\n",
    "\n",
    "**<font size=3> GitHub Link: https://github.com/Awa25/ML_CA1 </font>**"
   ]
  },
  {
   "cell_type": "markdown",
   "id": "948a733d",
   "metadata": {},
   "source": [
    "### Scenario:\n",
    "\n",
    "This is a data set which contains over 65K attempts to access a firewall. There is a single categorical feature “Action”, that contains 4 categories – “allow, deny, drop, reset-both”.\n",
    "Your task is to create a classification model that will predict the class of incoming traffic to the firewall."
   ]
  },
  {
   "cell_type": "markdown",
   "id": "17b34026",
   "metadata": {},
   "source": [
    "### Requirements\n",
    "\n",
    "You are required to use the dataset contained within the file “log2.csv” and then perform the following analysis by testing at least 2 classification algorithms:\n",
    "\n",
    "- Perform an initial analysis of the data (EDA) using python in your Jupyter notebook. Discuss your findings and what relevance they might have on your planned classification algorithms. [0-20]\n",
    "- Perform any preparation of the data, that you feel is necessary, using python in your Jupyter notebook. Explain your rationale behind your data preparation and how it will assist you.[0-30]\n",
    "- Create and implement at least 2 classification algorithms that will output a classification based on the Action: (class attribute) feature. Test these models and try to improve it as you see fit. Discuss your findings and final rational for choosing a particular classification algorithm.[0-40]\n",
    "- Make a classification using your test data, using your final classification algorithm and comment on the accuracy differential between the training and testing set.[0-10]"
   ]
  },
  {
   "cell_type": "markdown",
   "id": "96896396",
   "metadata": {},
   "source": [
    "# 1. Initial Data Analysis (EDA)"
   ]
  },
  {
   "cell_type": "code",
   "execution_count": 32,
   "id": "5d3f8354",
   "metadata": {},
   "outputs": [],
   "source": [
    "# import necessary libraries\n",
    "import pandas as pd\n",
    "import numpy as np\n",
    "import matplotlib.pyplot as plt\n",
    "import seaborn as sns\n",
    "from sklearn.model_selection import train_test_split, GridSearchCV\n",
    "from sklearn.preprocessing import LabelEncoder, StandardScaler\n",
    "from sklearn.metrics import classification_report, accuracy_score, confusion_matrix\n",
    "from sklearn.tree import DecisionTreeClassifier\n",
    "from sklearn.ensemble import RandomForestClassifier\n",
    "from sklearn.svm import SVC"
   ]
  },
  {
   "cell_type": "code",
   "execution_count": 33,
   "id": "686b09b7",
   "metadata": {},
   "outputs": [
    {
     "data": {
      "text/html": [
       "<div>\n",
       "<style scoped>\n",
       "    .dataframe tbody tr th:only-of-type {\n",
       "        vertical-align: middle;\n",
       "    }\n",
       "\n",
       "    .dataframe tbody tr th {\n",
       "        vertical-align: top;\n",
       "    }\n",
       "\n",
       "    .dataframe thead th {\n",
       "        text-align: right;\n",
       "    }\n",
       "</style>\n",
       "<table border=\"1\" class=\"dataframe\">\n",
       "  <thead>\n",
       "    <tr style=\"text-align: right;\">\n",
       "      <th></th>\n",
       "      <th>Source Port</th>\n",
       "      <th>Destination Port</th>\n",
       "      <th>NAT Source Port</th>\n",
       "      <th>NAT Destination Port</th>\n",
       "      <th>Bytes</th>\n",
       "      <th>Bytes Sent</th>\n",
       "      <th>Bytes Received</th>\n",
       "      <th>Packets</th>\n",
       "      <th>Elapsed Time (sec)</th>\n",
       "      <th>pkts_sent</th>\n",
       "      <th>pkts_received</th>\n",
       "    </tr>\n",
       "  </thead>\n",
       "  <tbody>\n",
       "    <tr>\n",
       "      <th>count</th>\n",
       "      <td>65532.000000</td>\n",
       "      <td>65532.000000</td>\n",
       "      <td>65532.000000</td>\n",
       "      <td>65532.000000</td>\n",
       "      <td>6.553200e+04</td>\n",
       "      <td>6.553200e+04</td>\n",
       "      <td>6.553200e+04</td>\n",
       "      <td>6.553200e+04</td>\n",
       "      <td>65532.000000</td>\n",
       "      <td>65532.000000</td>\n",
       "      <td>65532.000000</td>\n",
       "    </tr>\n",
       "    <tr>\n",
       "      <th>mean</th>\n",
       "      <td>49391.969343</td>\n",
       "      <td>10577.385812</td>\n",
       "      <td>19282.972761</td>\n",
       "      <td>2671.049930</td>\n",
       "      <td>9.712395e+04</td>\n",
       "      <td>2.238580e+04</td>\n",
       "      <td>7.473815e+04</td>\n",
       "      <td>1.028660e+02</td>\n",
       "      <td>65.833577</td>\n",
       "      <td>41.399530</td>\n",
       "      <td>61.466505</td>\n",
       "    </tr>\n",
       "    <tr>\n",
       "      <th>std</th>\n",
       "      <td>15255.712537</td>\n",
       "      <td>18466.027039</td>\n",
       "      <td>21970.689669</td>\n",
       "      <td>9739.162278</td>\n",
       "      <td>5.618439e+06</td>\n",
       "      <td>3.828139e+06</td>\n",
       "      <td>2.463208e+06</td>\n",
       "      <td>5.133002e+03</td>\n",
       "      <td>302.461762</td>\n",
       "      <td>3218.871288</td>\n",
       "      <td>2223.332271</td>\n",
       "    </tr>\n",
       "    <tr>\n",
       "      <th>min</th>\n",
       "      <td>0.000000</td>\n",
       "      <td>0.000000</td>\n",
       "      <td>0.000000</td>\n",
       "      <td>0.000000</td>\n",
       "      <td>6.000000e+01</td>\n",
       "      <td>6.000000e+01</td>\n",
       "      <td>0.000000e+00</td>\n",
       "      <td>1.000000e+00</td>\n",
       "      <td>0.000000</td>\n",
       "      <td>1.000000</td>\n",
       "      <td>0.000000</td>\n",
       "    </tr>\n",
       "    <tr>\n",
       "      <th>25%</th>\n",
       "      <td>49183.000000</td>\n",
       "      <td>80.000000</td>\n",
       "      <td>0.000000</td>\n",
       "      <td>0.000000</td>\n",
       "      <td>6.600000e+01</td>\n",
       "      <td>6.600000e+01</td>\n",
       "      <td>0.000000e+00</td>\n",
       "      <td>1.000000e+00</td>\n",
       "      <td>0.000000</td>\n",
       "      <td>1.000000</td>\n",
       "      <td>0.000000</td>\n",
       "    </tr>\n",
       "    <tr>\n",
       "      <th>50%</th>\n",
       "      <td>53776.500000</td>\n",
       "      <td>445.000000</td>\n",
       "      <td>8820.500000</td>\n",
       "      <td>53.000000</td>\n",
       "      <td>1.680000e+02</td>\n",
       "      <td>9.000000e+01</td>\n",
       "      <td>7.900000e+01</td>\n",
       "      <td>2.000000e+00</td>\n",
       "      <td>15.000000</td>\n",
       "      <td>1.000000</td>\n",
       "      <td>1.000000</td>\n",
       "    </tr>\n",
       "    <tr>\n",
       "      <th>75%</th>\n",
       "      <td>58638.000000</td>\n",
       "      <td>15000.000000</td>\n",
       "      <td>38366.250000</td>\n",
       "      <td>443.000000</td>\n",
       "      <td>7.522500e+02</td>\n",
       "      <td>2.100000e+02</td>\n",
       "      <td>4.490000e+02</td>\n",
       "      <td>6.000000e+00</td>\n",
       "      <td>30.000000</td>\n",
       "      <td>3.000000</td>\n",
       "      <td>2.000000</td>\n",
       "    </tr>\n",
       "    <tr>\n",
       "      <th>max</th>\n",
       "      <td>65534.000000</td>\n",
       "      <td>65535.000000</td>\n",
       "      <td>65535.000000</td>\n",
       "      <td>65535.000000</td>\n",
       "      <td>1.269359e+09</td>\n",
       "      <td>9.484772e+08</td>\n",
       "      <td>3.208818e+08</td>\n",
       "      <td>1.036116e+06</td>\n",
       "      <td>10824.000000</td>\n",
       "      <td>747520.000000</td>\n",
       "      <td>327208.000000</td>\n",
       "    </tr>\n",
       "  </tbody>\n",
       "</table>\n",
       "</div>"
      ],
      "text/plain": [
       "        Source Port  Destination Port  NAT Source Port  NAT Destination Port  \\\n",
       "count  65532.000000      65532.000000     65532.000000          65532.000000   \n",
       "mean   49391.969343      10577.385812     19282.972761           2671.049930   \n",
       "std    15255.712537      18466.027039     21970.689669           9739.162278   \n",
       "min        0.000000          0.000000         0.000000              0.000000   \n",
       "25%    49183.000000         80.000000         0.000000              0.000000   \n",
       "50%    53776.500000        445.000000      8820.500000             53.000000   \n",
       "75%    58638.000000      15000.000000     38366.250000            443.000000   \n",
       "max    65534.000000      65535.000000     65535.000000          65535.000000   \n",
       "\n",
       "              Bytes    Bytes Sent  Bytes Received       Packets  \\\n",
       "count  6.553200e+04  6.553200e+04    6.553200e+04  6.553200e+04   \n",
       "mean   9.712395e+04  2.238580e+04    7.473815e+04  1.028660e+02   \n",
       "std    5.618439e+06  3.828139e+06    2.463208e+06  5.133002e+03   \n",
       "min    6.000000e+01  6.000000e+01    0.000000e+00  1.000000e+00   \n",
       "25%    6.600000e+01  6.600000e+01    0.000000e+00  1.000000e+00   \n",
       "50%    1.680000e+02  9.000000e+01    7.900000e+01  2.000000e+00   \n",
       "75%    7.522500e+02  2.100000e+02    4.490000e+02  6.000000e+00   \n",
       "max    1.269359e+09  9.484772e+08    3.208818e+08  1.036116e+06   \n",
       "\n",
       "       Elapsed Time (sec)      pkts_sent  pkts_received  \n",
       "count        65532.000000   65532.000000   65532.000000  \n",
       "mean            65.833577      41.399530      61.466505  \n",
       "std            302.461762    3218.871288    2223.332271  \n",
       "min              0.000000       1.000000       0.000000  \n",
       "25%              0.000000       1.000000       0.000000  \n",
       "50%             15.000000       1.000000       1.000000  \n",
       "75%             30.000000       3.000000       2.000000  \n",
       "max          10824.000000  747520.000000  327208.000000  "
      ]
     },
     "execution_count": 33,
     "metadata": {},
     "output_type": "execute_result"
    }
   ],
   "source": [
    "# Load the dataset\n",
    "data = pd.read_csv('log2.csv')\n",
    "\n",
    "# Discribe the dataset\n",
    "data.describe()"
   ]
  },
  {
   "cell_type": "code",
   "execution_count": 34,
   "id": "d6f63897",
   "metadata": {},
   "outputs": [
    {
     "data": {
      "text/html": [
       "<div>\n",
       "<style scoped>\n",
       "    .dataframe tbody tr th:only-of-type {\n",
       "        vertical-align: middle;\n",
       "    }\n",
       "\n",
       "    .dataframe tbody tr th {\n",
       "        vertical-align: top;\n",
       "    }\n",
       "\n",
       "    .dataframe thead th {\n",
       "        text-align: right;\n",
       "    }\n",
       "</style>\n",
       "<table border=\"1\" class=\"dataframe\">\n",
       "  <thead>\n",
       "    <tr style=\"text-align: right;\">\n",
       "      <th></th>\n",
       "      <th>Source Port</th>\n",
       "      <th>Destination Port</th>\n",
       "      <th>NAT Source Port</th>\n",
       "      <th>NAT Destination Port</th>\n",
       "      <th>Bytes</th>\n",
       "      <th>Bytes Sent</th>\n",
       "      <th>Bytes Received</th>\n",
       "      <th>Packets</th>\n",
       "      <th>Elapsed Time (sec)</th>\n",
       "      <th>pkts_sent</th>\n",
       "      <th>pkts_received</th>\n",
       "      <th>Action</th>\n",
       "    </tr>\n",
       "  </thead>\n",
       "  <tbody>\n",
       "    <tr>\n",
       "      <th>0</th>\n",
       "      <td>57222</td>\n",
       "      <td>53</td>\n",
       "      <td>54587</td>\n",
       "      <td>53</td>\n",
       "      <td>177</td>\n",
       "      <td>94</td>\n",
       "      <td>83</td>\n",
       "      <td>2</td>\n",
       "      <td>30</td>\n",
       "      <td>1</td>\n",
       "      <td>1</td>\n",
       "      <td>allow</td>\n",
       "    </tr>\n",
       "    <tr>\n",
       "      <th>1</th>\n",
       "      <td>56258</td>\n",
       "      <td>3389</td>\n",
       "      <td>56258</td>\n",
       "      <td>3389</td>\n",
       "      <td>4768</td>\n",
       "      <td>1600</td>\n",
       "      <td>3168</td>\n",
       "      <td>19</td>\n",
       "      <td>17</td>\n",
       "      <td>10</td>\n",
       "      <td>9</td>\n",
       "      <td>allow</td>\n",
       "    </tr>\n",
       "    <tr>\n",
       "      <th>2</th>\n",
       "      <td>6881</td>\n",
       "      <td>50321</td>\n",
       "      <td>43265</td>\n",
       "      <td>50321</td>\n",
       "      <td>238</td>\n",
       "      <td>118</td>\n",
       "      <td>120</td>\n",
       "      <td>2</td>\n",
       "      <td>1199</td>\n",
       "      <td>1</td>\n",
       "      <td>1</td>\n",
       "      <td>allow</td>\n",
       "    </tr>\n",
       "    <tr>\n",
       "      <th>3</th>\n",
       "      <td>50553</td>\n",
       "      <td>3389</td>\n",
       "      <td>50553</td>\n",
       "      <td>3389</td>\n",
       "      <td>3327</td>\n",
       "      <td>1438</td>\n",
       "      <td>1889</td>\n",
       "      <td>15</td>\n",
       "      <td>17</td>\n",
       "      <td>8</td>\n",
       "      <td>7</td>\n",
       "      <td>allow</td>\n",
       "    </tr>\n",
       "    <tr>\n",
       "      <th>4</th>\n",
       "      <td>50002</td>\n",
       "      <td>443</td>\n",
       "      <td>45848</td>\n",
       "      <td>443</td>\n",
       "      <td>25358</td>\n",
       "      <td>6778</td>\n",
       "      <td>18580</td>\n",
       "      <td>31</td>\n",
       "      <td>16</td>\n",
       "      <td>13</td>\n",
       "      <td>18</td>\n",
       "      <td>allow</td>\n",
       "    </tr>\n",
       "  </tbody>\n",
       "</table>\n",
       "</div>"
      ],
      "text/plain": [
       "   Source Port  Destination Port  NAT Source Port  NAT Destination Port  \\\n",
       "0        57222                53            54587                    53   \n",
       "1        56258              3389            56258                  3389   \n",
       "2         6881             50321            43265                 50321   \n",
       "3        50553              3389            50553                  3389   \n",
       "4        50002               443            45848                   443   \n",
       "\n",
       "   Bytes  Bytes Sent  Bytes Received  Packets  Elapsed Time (sec)  pkts_sent  \\\n",
       "0    177          94              83        2                  30          1   \n",
       "1   4768        1600            3168       19                  17         10   \n",
       "2    238         118             120        2                1199          1   \n",
       "3   3327        1438            1889       15                  17          8   \n",
       "4  25358        6778           18580       31                  16         13   \n",
       "\n",
       "   pkts_received Action  \n",
       "0              1  allow  \n",
       "1              9  allow  \n",
       "2              1  allow  \n",
       "3              7  allow  \n",
       "4             18  allow  "
      ]
     },
     "execution_count": 34,
     "metadata": {},
     "output_type": "execute_result"
    }
   ],
   "source": [
    "# Display the first few rows of the dataset\n",
    "data.head()"
   ]
  },
  {
   "cell_type": "code",
   "execution_count": 35,
   "id": "de8bb703",
   "metadata": {},
   "outputs": [
    {
     "name": "stdout",
     "output_type": "stream",
     "text": [
      "<class 'pandas.core.frame.DataFrame'>\n",
      "RangeIndex: 65532 entries, 0 to 65531\n",
      "Data columns (total 12 columns):\n",
      " #   Column                Non-Null Count  Dtype \n",
      "---  ------                --------------  ----- \n",
      " 0   Source Port           65532 non-null  int64 \n",
      " 1   Destination Port      65532 non-null  int64 \n",
      " 2   NAT Source Port       65532 non-null  int64 \n",
      " 3   NAT Destination Port  65532 non-null  int64 \n",
      " 4   Bytes                 65532 non-null  int64 \n",
      " 5   Bytes Sent            65532 non-null  int64 \n",
      " 6   Bytes Received        65532 non-null  int64 \n",
      " 7   Packets               65532 non-null  int64 \n",
      " 8   Elapsed Time (sec)    65532 non-null  int64 \n",
      " 9   pkts_sent             65532 non-null  int64 \n",
      " 10  pkts_received         65532 non-null  int64 \n",
      " 11  Action                65532 non-null  object\n",
      "dtypes: int64(11), object(1)\n",
      "memory usage: 6.0+ MB\n"
     ]
    }
   ],
   "source": [
    "# View information about the data\n",
    "data.info()"
   ]
  },
  {
   "cell_type": "code",
   "execution_count": 54,
   "id": "b1803bfd",
   "metadata": {},
   "outputs": [
    {
     "name": "stdout",
     "output_type": "stream",
     "text": [
      "\n",
      "Missing Values:\n",
      "\n",
      "Source Port             0\n",
      "Destination Port        0\n",
      "NAT Source Port         0\n",
      "NAT Destination Port    0\n",
      "Bytes                   0\n",
      "Bytes Sent              0\n",
      "Bytes Received          0\n",
      "Packets                 0\n",
      "Elapsed Time (sec)      0\n",
      "pkts_sent               0\n",
      "pkts_received           0\n",
      "Action                  0\n",
      "dtype: int64\n"
     ]
    }
   ],
   "source": [
    "# Check for missing values\n",
    "missing_values = data.isnull().sum()\n",
    "print(\"\\nMissing Values:\\n\")\n",
    "print(missing_values)"
   ]
  },
  {
   "cell_type": "code",
   "execution_count": 37,
   "id": "e351d497",
   "metadata": {},
   "outputs": [
    {
     "name": "stdout",
     "output_type": "stream",
     "text": [
      "\n",
      "Summary Statistics:\n",
      "\n",
      "         Source Port  Destination Port  NAT Source Port  NAT Destination Port  \\\n",
      "count  65532.000000      65532.000000     65532.000000          65532.000000   \n",
      "mean   49391.969343      10577.385812     19282.972761           2671.049930   \n",
      "std    15255.712537      18466.027039     21970.689669           9739.162278   \n",
      "min        0.000000          0.000000         0.000000              0.000000   \n",
      "25%    49183.000000         80.000000         0.000000              0.000000   \n",
      "50%    53776.500000        445.000000      8820.500000             53.000000   \n",
      "75%    58638.000000      15000.000000     38366.250000            443.000000   \n",
      "max    65534.000000      65535.000000     65535.000000          65535.000000   \n",
      "\n",
      "              Bytes    Bytes Sent  Bytes Received       Packets  \\\n",
      "count  6.553200e+04  6.553200e+04    6.553200e+04  6.553200e+04   \n",
      "mean   9.712395e+04  2.238580e+04    7.473815e+04  1.028660e+02   \n",
      "std    5.618439e+06  3.828139e+06    2.463208e+06  5.133002e+03   \n",
      "min    6.000000e+01  6.000000e+01    0.000000e+00  1.000000e+00   \n",
      "25%    6.600000e+01  6.600000e+01    0.000000e+00  1.000000e+00   \n",
      "50%    1.680000e+02  9.000000e+01    7.900000e+01  2.000000e+00   \n",
      "75%    7.522500e+02  2.100000e+02    4.490000e+02  6.000000e+00   \n",
      "max    1.269359e+09  9.484772e+08    3.208818e+08  1.036116e+06   \n",
      "\n",
      "       Elapsed Time (sec)      pkts_sent  pkts_received  \n",
      "count        65532.000000   65532.000000   65532.000000  \n",
      "mean            65.833577      41.399530      61.466505  \n",
      "std            302.461762    3218.871288    2223.332271  \n",
      "min              0.000000       1.000000       0.000000  \n",
      "25%              0.000000       1.000000       0.000000  \n",
      "50%             15.000000       1.000000       1.000000  \n",
      "75%             30.000000       3.000000       2.000000  \n",
      "max          10824.000000  747520.000000  327208.000000  \n"
     ]
    }
   ],
   "source": [
    "# Summary statistics\n",
    "summary_stats = data.describe()\n",
    "print(\"\\nSummary Statistics:\\n\\n\", summary_stats)"
   ]
  },
  {
   "cell_type": "code",
   "execution_count": 38,
   "id": "5856c7b3",
   "metadata": {},
   "outputs": [
    {
     "data": {
      "image/png": "[encoded data removed]",
      "text/plain": [
       "<Figure size 576x432 with 1 Axes>"
      ]
     },
     "metadata": {
      "needs_background": "light"
     },
     "output_type": "display_data"
    }
   ],
   "source": [
    "# Visualizing the distribution of the target variable 'Action'\n",
    "plt.figure(figsize = (8, 6))\n",
    "sns.countplot(x = 'Action', data = data)\n",
    "plt.title('Distribution of Actions')\n",
    "plt.show()"
   ]
  },
  {
   "cell_type": "markdown",
   "id": "8d97ca35",
   "metadata": {},
   "source": [
    "##  Discuss your findings and what relevance they might have on your planned classification algorithms.\n",
    "\n",
    "1. **No Missing Values:** The dataset being used does not have missing values. This simplifies the preprocessing stage since imputation techniques are not required. However, it’s always good to verify this finding as datasets can change over time or with different subsets.\n",
    "\n",
    "\n",
    "2. **Summary Statistics:** The document provides summary statistics for numerical features, which is crucial for understanding the data's distribution, scale, and central tendencies. For classification algorithms, this understanding can guide feature normalization or standardization, which is particularly important for algorithms sensitive to feature scales, such as Support Vector Machines (SVM) or k-Nearest Neighbors (k-NN). \n",
    "\n",
    "\n",
    "3. **Class Imbalance in Target Variable:** The target variable 'Action' exhibits class imbalance, a common issue in classification problems. This imbalance can significantly impact the performance of classification algorithms by making them biased towards the majority class. Addressing class imbalance through techniques such as oversampling the minority class, undersampling the majority class, or using algorithm-specific parameters (like class weights in logistic regression or decision trees) is essential. It influences model selection and evaluation metrics choice, as standard accuracy might not be the best performance measure in imbalanced scenarios. Precision, recall, F1-score, or even the use of confusion matrices could provide more insight into the model's performance across different classes.\n",
    "\n",
    "\n",
    "4. **Choice of Classification Algorithms:** The document mentions using a Decision Tree Classifier, a RandomForest Classifier, and an SVM. The choice of these algorithms indicates a preference for versatile models capable of handling non-linear relationships and providing feature importance (in the case of tree-based models). The RandomForest Classifier can handle class imbalance better due to its ensemble nature, which aggregates multiple decision trees to improve performance and reduce overfitting. The SVM, especially with the appropriate kernel, can efficiently deal with non-linear data. However, its performance might be sensitive to class imbalance and feature scale, thus highlighting the importance of the initial findings.\n",
    "\n",
    "5. **Evaluation Metrics:** Given the class imbalance, it would be relevant to focus on evaluation metrics beyond accuracy, such as precision, recall, F1-score, or even AUC-ROC curves, to get a holistic view of model performance across different classes. This would ensure that the model not only predicts accurately but also does so in a balanced manner across the minority and majority classes.\n",
    "\n",
    "\n",
    "**<font size=3> The findings from the initial data analysis have significant implications for the planned classification algorithms. They guide the preprocessing steps (like dealing with class imbalance and feature scaling), influence the choice and tuning of algorithms, and suggest suitable evaluation metrics that account for class imbalance. This holistic approach ensures the development of robust, fair, and effective classification models. </font>**"
   ]
  },
  {
   "cell_type": "markdown",
   "id": "c7687157",
   "metadata": {},
   "source": [
    "## Findings and Relevance to Planned Classification Algorithms\n",
    "\n",
    "### • Findings\n",
    "####   • No Missing Values: Simplifies the preprocessing stage.\n",
    "####   • Summary Statistics: Offers insights for feature scaling and anomaly detection.\n",
    "####   • Class Imbalance: Indicates the need for strategies to address this issue for model fairness and accuracy."
   ]
  },
  {
   "cell_type": "markdown",
   "id": "a8bfc67c",
   "metadata": {},
   "source": [
    "### • Relevance:\n",
    "#### • The absence of missing values means less preprocessing work and no need for imputation strategies, allowing for a straightforward initial data analysis.\n",
    "#### • Summary statistics inform feature scaling/normalization decisions, crucial for algorithms like SVM that are sensitive to the scale of input features.\n",
    "####    • Addressing class imbalance is vital for ensuring model fairness and effectiveness, particularly for algorithms that might otherwise bias towards the majority class. Techniques such as oversampling, undersampling, or using algorithm-specific parameters for class weights can be considered."
   ]
  },
  {
   "cell_type": "markdown",
   "id": "22722a04",
   "metadata": {},
   "source": [
    "# 2. Perform any preparation of the data"
   ]
  },
  {
   "cell_type": "markdown",
   "id": "a5a2f007",
   "metadata": {},
   "source": [
    "## Rationale behind data preparation:\n",
    "\n",
    "**1.\tHandling Missing Values:** The dataset is noted to have no missing values, which simplifies the data preparation process. However, it's essential to confirm this finding as part of the data preparation to ensure that no steps are needed for imputation. If missing values were found in future datasets, appropriate imputation strategies would be determined based on the nature of the data (mean/median imputation for numerical data or mode imputation/creating a new category for categorical data).\n",
    "\n",
    "**2.\tDealing with Class Imbalance:** The class imbalance in the target variable 'Action' is a critical issue that can lead to biased models favoring the majority class. To address this, data preparation will include techniques such as:\n",
    "*\tOversampling the minority class or undersampling the majority class to balance the dataset.\n",
    "*\tImplementing synthetic data generation techniques like SMOTE (Synthetic Minority Over-sampling Technique) to create synthetic examples of the minority class.\n",
    "*\tUsing algorithm-specific solutions like adjusting class weights in models that support this feature. This approach allows the model to penalize mistakes on the minority class more than the majority class.\n",
    "\n",
    "**3. Feature Scaling:** Given the use of algorithms like SVM, which are sensitive to the scale of the features, normalization or standardization of features will be an essential part of data preparation. This step ensures that all features contribute equally to the model's decision process, improving the model's performance and convergence speed during training.\n",
    "\n",
    "**4. Summary Statistics Analysis:** Understanding the distribution, scale, and central tendencies of numerical features from summary statistics allows for informed decisions on feature transformation (e.g., log transformation for skewed data) and anomaly detection (identifying and handling outliers). These steps can significantly impact model accuracy and generalization.\n",
    "\n",
    "**5. Encoding Categorical Variables:** If the dataset contains categorical variables, appropriate encoding strategies (like one-hot encoding or label encoding) will be applied. This is crucial for models that require numerical input, ensuring that categorical data is suitably represented for model training.\n",
    "\n",
    "**6. Feature Selection:** Based on initial data analysis, irrelevant or redundant features will be identified and removed. This simplification can reduce overfitting, improve model interpretability, and decrease training time.\n",
    "\n",
    "\n",
    "**<font size=3> The rationale behind these data preparation steps is to create a dataset that is clean, balanced, and appropriately formatted for the chosen classification algorithms. This thorough preparation is crucial for developing models that are not only accurate but also fair and capable of generalizing well to unseen data. It addresses the initial findings and challenges outlined in the document, ensuring that the models developed subsequently are built on a solid foundation </font>**"
   ]
  },
  {
   "cell_type": "code",
   "execution_count": 39,
   "id": "76f5b017",
   "metadata": {},
   "outputs": [],
   "source": [
    "# Encoding categorical target variable 'Action'\n",
    "label_encoder = LabelEncoder()\n",
    "data['Action'] = label_encoder.fit_transform(data['Action'])"
   ]
  },
  {
   "cell_type": "code",
   "execution_count": 40,
   "id": "519aa904",
   "metadata": {},
   "outputs": [],
   "source": [
    "# Create map numbers to the original class labels\n",
    "Action_mapping = {0: 'allow', 1: 'deny', 2: 'drop', 3: 'reset-both'}"
   ]
  },
  {
   "cell_type": "code",
   "execution_count": 41,
   "id": "4229597f",
   "metadata": {},
   "outputs": [],
   "source": [
    "# Splitting data into features and target variable\n",
    "X = data.drop(columns = ['Action'])\n",
    "y = data['Action']"
   ]
  },
  {
   "cell_type": "code",
   "execution_count": 42,
   "id": "17b8630e",
   "metadata": {},
   "outputs": [],
   "source": [
    "# Splitting data into train and test sets\n",
    "X_train, X_test, y_train, y_test = train_test_split(X, y, test_size = 0.2, random_state = 42)"
   ]
  },
  {
   "cell_type": "code",
   "execution_count": 43,
   "id": "85551795",
   "metadata": {},
   "outputs": [
    {
     "data": {
      "text/html": [
       "<div>\n",
       "<style scoped>\n",
       "    .dataframe tbody tr th:only-of-type {\n",
       "        vertical-align: middle;\n",
       "    }\n",
       "\n",
       "    .dataframe tbody tr th {\n",
       "        vertical-align: top;\n",
       "    }\n",
       "\n",
       "    .dataframe thead th {\n",
       "        text-align: right;\n",
       "    }\n",
       "</style>\n",
       "<table border=\"1\" class=\"dataframe\">\n",
       "  <thead>\n",
       "    <tr style=\"text-align: right;\">\n",
       "      <th></th>\n",
       "      <th>Source Port</th>\n",
       "      <th>Destination Port</th>\n",
       "      <th>NAT Source Port</th>\n",
       "      <th>NAT Destination Port</th>\n",
       "      <th>Bytes</th>\n",
       "      <th>Bytes Sent</th>\n",
       "      <th>Bytes Received</th>\n",
       "      <th>Packets</th>\n",
       "      <th>Elapsed Time (sec)</th>\n",
       "      <th>pkts_sent</th>\n",
       "      <th>pkts_received</th>\n",
       "    </tr>\n",
       "  </thead>\n",
       "  <tbody>\n",
       "    <tr>\n",
       "      <th>50640</th>\n",
       "      <td>49437</td>\n",
       "      <td>443</td>\n",
       "      <td>4843</td>\n",
       "      <td>443</td>\n",
       "      <td>9621</td>\n",
       "      <td>2347</td>\n",
       "      <td>7274</td>\n",
       "      <td>24</td>\n",
       "      <td>78</td>\n",
       "      <td>12</td>\n",
       "      <td>12</td>\n",
       "    </tr>\n",
       "    <tr>\n",
       "      <th>25967</th>\n",
       "      <td>60939</td>\n",
       "      <td>445</td>\n",
       "      <td>0</td>\n",
       "      <td>0</td>\n",
       "      <td>70</td>\n",
       "      <td>70</td>\n",
       "      <td>0</td>\n",
       "      <td>1</td>\n",
       "      <td>0</td>\n",
       "      <td>1</td>\n",
       "      <td>0</td>\n",
       "    </tr>\n",
       "    <tr>\n",
       "      <th>3446</th>\n",
       "      <td>49437</td>\n",
       "      <td>53</td>\n",
       "      <td>49111</td>\n",
       "      <td>53</td>\n",
       "      <td>498</td>\n",
       "      <td>204</td>\n",
       "      <td>294</td>\n",
       "      <td>6</td>\n",
       "      <td>30</td>\n",
       "      <td>3</td>\n",
       "      <td>3</td>\n",
       "    </tr>\n",
       "    <tr>\n",
       "      <th>10689</th>\n",
       "      <td>64040</td>\n",
       "      <td>12226</td>\n",
       "      <td>50739</td>\n",
       "      <td>12226</td>\n",
       "      <td>70</td>\n",
       "      <td>70</td>\n",
       "      <td>0</td>\n",
       "      <td>1</td>\n",
       "      <td>4</td>\n",
       "      <td>1</td>\n",
       "      <td>0</td>\n",
       "    </tr>\n",
       "    <tr>\n",
       "      <th>52462</th>\n",
       "      <td>29021</td>\n",
       "      <td>23</td>\n",
       "      <td>0</td>\n",
       "      <td>0</td>\n",
       "      <td>60</td>\n",
       "      <td>60</td>\n",
       "      <td>0</td>\n",
       "      <td>1</td>\n",
       "      <td>0</td>\n",
       "      <td>1</td>\n",
       "      <td>0</td>\n",
       "    </tr>\n",
       "  </tbody>\n",
       "</table>\n",
       "</div>"
      ],
      "text/plain": [
       "       Source Port  Destination Port  NAT Source Port  NAT Destination Port  \\\n",
       "50640        49437               443             4843                   443   \n",
       "25967        60939               445                0                     0   \n",
       "3446         49437                53            49111                    53   \n",
       "10689        64040             12226            50739                 12226   \n",
       "52462        29021                23                0                     0   \n",
       "\n",
       "       Bytes  Bytes Sent  Bytes Received  Packets  Elapsed Time (sec)  \\\n",
       "50640   9621        2347            7274       24                  78   \n",
       "25967     70          70               0        1                   0   \n",
       "3446     498         204             294        6                  30   \n",
       "10689     70          70               0        1                   4   \n",
       "52462     60          60               0        1                   0   \n",
       "\n",
       "       pkts_sent  pkts_received  \n",
       "50640         12             12  \n",
       "25967          1              0  \n",
       "3446           3              3  \n",
       "10689          1              0  \n",
       "52462          1              0  "
      ]
     },
     "execution_count": 43,
     "metadata": {},
     "output_type": "execute_result"
    }
   ],
   "source": [
    "# Displaying processed data\n",
    "X_train.head()"
   ]
  },
  {
   "cell_type": "markdown",
   "id": "35c1df65",
   "metadata": {},
   "source": [
    "## Data Preparation and Its Assistance\n",
    "\n",
    "<font size = \"3\"> • Data preparation confirm no missing values, balance class distribution, scale features uniformly, analyze summary statistics for feature transformation, and encode categorical variables. </font>\n",
    "\n",
    "<font size = \"3\"> • Efficiency in Model Training: Preprocessing steps like feature scaling and handling missing values streamline model training, reducing computation time. </font>\n",
    "\n",
    "<font size = \"3\"> • Improved Model Accuracy: Addressing class imbalance and feature scaling ensures models are not biased and can accurately interpret the importance of each feature, leading to more accurate predictions. </font>\n",
    "\n",
    "<font size = \"3\"> • Enhanced Model Robustness: By carefully preparing the data, models become more robust and less prone to overfitting, ensuring they perform well not only on the training data but also on unseen data. </font>\n",
    "\n",
    "<font size = \"3\"> • This preparation lays a solid foundation, ensuring the chosen classification algorithms work effectively, leading to reliable, fair, and accurate modelling outcomes. </font>"
   ]
  },
  {
   "cell_type": "markdown",
   "id": "6c28b7e5",
   "metadata": {},
   "source": []
  },
  {
   "cell_type": "markdown",
   "id": "d0631ff0",
   "metadata": {},
   "source": [
    "# 3. Create and implement 2 classification algorithms that will output a classification based on the Action: (class attribute) feature.\n",
    "\n",
    "\n",
    "## • Decision Tree Classifier"
   ]
  },
  {
   "cell_type": "code",
   "execution_count": 44,
   "id": "109fb425",
   "metadata": {},
   "outputs": [],
   "source": [
    "# Initializing and fitting Decision Tree Classifier\n",
    "# Create the decision tree classifier\n",
    "dt_classifier = DecisionTreeClassifier(random_state = 42)"
   ]
  },
  {
   "cell_type": "code",
   "execution_count": 45,
   "id": "dba0e657",
   "metadata": {},
   "outputs": [
    {
     "data": {
      "text/plain": [
       "DecisionTreeClassifier(random_state=42)"
      ]
     },
     "execution_count": 45,
     "metadata": {},
     "output_type": "execute_result"
    }
   ],
   "source": [
    "# Using the Training Set Training Model\n",
    "dt_classifier.fit(X_train, y_train)"
   ]
  },
  {
   "cell_type": "code",
   "execution_count": 49,
   "id": "de4a0287",
   "metadata": {},
   "outputs": [],
   "source": [
    "# Predicting on test data\n",
    "#dt_pred = dt_classifier.predict(X_test)\n",
    "\n",
    "dt_pred_train = dt_classifier.predict(X_train)\n",
    "dt_pred_test = dt_classifier.predict(X_test)"
   ]
  },
  {
   "cell_type": "code",
   "execution_count": 50,
   "id": "077f989b",
   "metadata": {},
   "outputs": [],
   "source": [
    "# Evaluating the model\n",
    "#dt_accuracy = accuracy_score(y_test, dt_pred)\n",
    "\n",
    "train_accuracy = accuracy_score(y_train, dt_pred_train)\n",
    "test_accuracy = accuracy_score(y_test, dt_pred_test)"
   ]
  },
  {
   "cell_type": "code",
   "execution_count": 55,
   "id": "cebbd326",
   "metadata": {},
   "outputs": [
    {
     "name": "stdout",
     "output_type": "stream",
     "text": [
      "\n",
      "Decision Tree Classifier Train Accuracy: 0.9997329518359561 \n",
      "\n",
      "Decision Tree Classifier Test Accuracy: 0.9983978027008469\n"
     ]
    }
   ],
   "source": [
    "#print(\"Decision Tree Classifier Accuracy:\", dt_accuracy)\n",
    "\n",
    "print(\"\\nDecision Tree Classifier Train Accuracy:\", train_accuracy, \"\\n\")\n",
    "print(\"Decision Tree Classifier Test Accuracy:\", test_accuracy)"
   ]
  },
  {
   "cell_type": "code",
   "execution_count": 52,
   "id": "8f6e5c47",
   "metadata": {},
   "outputs": [
    {
     "name": "stdout",
     "output_type": "stream",
     "text": [
      "              precision    recall  f1-score   support\n",
      "\n",
      "       allow       1.00      1.00      1.00      7545\n",
      "        deny       1.00      1.00      1.00      2994\n",
      "        drop       1.00      1.00      1.00      2562\n",
      "  reset-both       0.71      0.83      0.77         6\n",
      "\n",
      "    accuracy                           1.00     13107\n",
      "   macro avg       0.93      0.96      0.94     13107\n",
      "weighted avg       1.00      1.00      1.00     13107\n",
      "\n"
     ]
    }
   ],
   "source": [
    "# Display more other indicators of assessing\n",
    "# print(classification_report(y_test, dt_pred_test))\n",
    "\n",
    "print(\"\\n\")\n",
    "print(classification_report(y_test, dt_pred_test, target_names = [Action_mapping[i] for i in range(len(Action_mapping))]))"
   ]
  },
  {
   "cell_type": "code",
   "execution_count": 56,
   "id": "58200b84",
   "metadata": {},
   "outputs": [
    {
     "name": "stdout",
     "output_type": "stream",
     "text": [
      "\n",
      "Confusion Matrix:\n",
      "\n",
      " [[7543    2    0    0]\n",
      " [   0 2985    7    2]\n",
      " [   0    9 2553    0]\n",
      " [   0    1    0    5]]\n"
     ]
    }
   ],
   "source": [
    "# Display the Confusion Matrix\n",
    "conf_matrix = confusion_matrix(y_test, dt_pred_test)\n",
    "print(\"\\nConfusion Matrix:\\n\\n\", conf_matrix)"
   ]
  },
  {
   "cell_type": "markdown",
   "id": "d0a41e4b",
   "metadata": {},
   "source": [
    "## • Random Forest Classifier"
   ]
  },
  {
   "cell_type": "code",
   "execution_count": 25,
   "id": "08867f5c",
   "metadata": {},
   "outputs": [
    {
     "name": "stdout",
     "output_type": "stream",
     "text": [
      "Random Forest Classifier Train Accuracy: 0.9997138769670959 \n",
      "\n",
      "Random Forest Classifier Test Accuracy: 0.9984740978103304\n"
     ]
    }
   ],
   "source": [
    "# Initializing and fitting Random Forest Classifier\n",
    "rf_classifier = RandomForestClassifier(random_state = 42)\n",
    "\n",
    "# Using the Training Set Training Model\n",
    "rf_classifier.fit(X_train, y_train)\n",
    "\n",
    "# Predicting on test data\n",
    "rf_pred_train = rf_classifier.predict(X_train)\n",
    "rf_pred_test = rf_classifier.predict(X_test)\n",
    "\n",
    "# Evaluating the model\n",
    "train_accuracy = accuracy_score(y_train, rf_pred_train)\n",
    "test_accuracy = accuracy_score(y_test, rf_pred_test)\n",
    "\n",
    "\n",
    "print(\"Random Forest Classifier Train Accuracy:\", train_accuracy, \"\\n\")\n",
    "print(\"Random Forest Classifier Test Accuracy:\", test_accuracy)"
   ]
  },
  {
   "cell_type": "code",
   "execution_count": 26,
   "id": "4f5d3a44",
   "metadata": {},
   "outputs": [
    {
     "name": "stdout",
     "output_type": "stream",
     "text": [
      "              precision    recall  f1-score   support\n",
      "\n",
      "           0       1.00      1.00      1.00      7545\n",
      "           1       1.00      1.00      1.00      2994\n",
      "           2       1.00      1.00      1.00      2562\n",
      "           3       1.00      0.67      0.80         6\n",
      "\n",
      "    accuracy                           1.00     13107\n",
      "   macro avg       1.00      0.92      0.95     13107\n",
      "weighted avg       1.00      1.00      1.00     13107\n",
      "\n"
     ]
    }
   ],
   "source": [
    "# Display more other indicators of assessing\n",
    "print(classification_report(y_test, rf_pred_test))"
   ]
  },
  {
   "cell_type": "code",
   "execution_count": 19,
   "id": "b333acb7",
   "metadata": {},
   "outputs": [
    {
     "name": "stdout",
     "output_type": "stream",
     "text": [
      "Confusion Matrix:\n",
      " [[7543    2    0    0]\n",
      " [   0 2987    7    0]\n",
      " [   0    9 2553    0]\n",
      " [   0    2    0    4]]\n"
     ]
    }
   ],
   "source": [
    "# Display the Confusion Matrix\n",
    "conf_matrix = confusion_matrix(y_test, rf_pred_test)\n",
    "print(\"Confusion Matrix:\\n\", conf_matrix)"
   ]
  },
  {
   "cell_type": "markdown",
   "id": "fccd1a97",
   "metadata": {},
   "source": [
    "## Discuss your findings and final rational for choosing a particular classification algorithm.\n",
    "\n",
    "\n"
   ]
  },
  {
   "cell_type": "markdown",
   "id": "d9532d51",
   "metadata": {},
   "source": []
  },
  {
   "cell_type": "markdown",
   "id": "dabd3fdd",
   "metadata": {},
   "source": []
  }
 ],
 "metadata": {
  "kernelspec": {
   "display_name": "Python 3 (ipykernel)",
   "language": "python",
   "name": "python3"
  },
  "language_info": {
   "codemirror_mode": {
    "name": "ipython",
    "version": 3
   },
   "file_extension": ".py",
   "mimetype": "text/x-python",
   "name": "python",
   "nbconvert_exporter": "python",
   "pygments_lexer": "ipython3",
   "version": "3.9.7"
  }
 },
 "nbformat": 4,
 "nbformat_minor": 5
}
