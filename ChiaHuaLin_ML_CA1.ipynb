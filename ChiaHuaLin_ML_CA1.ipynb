{
 "cells": [
  {
   "cell_type": "markdown",
   "id": "428d88bb",
   "metadata": {},
   "source": [
    "**<font size=5> Module Title: Machine Learning for AI </font>**\n",
    "\n",
    "**<font size=5> Assessment Title: ML_CA1 </font>**\n",
    "\n",
    "**<font size=4> Lecturer Name: Dr. David McQuaid </font>**\n",
    "\n",
    "**<font size=4> Student Name: Chia Hua Lin &emsp; &emsp; ID: 2020044 </font>**\n",
    "\n",
    "**<font size=3> GitHub Link: https://github.com/Awa25/ML_CA1 </font>**"
   ]
  },
  {
   "cell_type": "markdown",
   "id": "948a733d",
   "metadata": {},
   "source": [
    "### Scenario:\n",
    "\n",
    "This is a data set which contains over 65K attempts to access a firewall. There is a single categorical feature “Action”, that contains 4 categories – “allow, deny, drop, reset-both”.\n",
    "Your task is to create a classification model that will predict the class of incoming traffic to the firewall."
   ]
  },
  {
   "cell_type": "markdown",
   "id": "17b34026",
   "metadata": {},
   "source": [
    "### Requirements\n",
    "\n",
    "You are required to use the dataset contained within the file “log2.csv” and then perform the following analysis by testing at least 2 classification algorithms:\n",
    "\n",
    "- Perform an initial analysis of the data (EDA) using python in your Jupyter notebook. Discuss your findings and what relevance they might have on your planned classification algorithms. [0-20]\n",
    "- Perform any preparation of the data, that you feel is necessary, using python in your Jupyter notebook. Explain your rationale behind your data preparation and how it will assist you.[0-30]\n",
    "- Create and implement at least 2 classification algorithms that will output a classification based on the Action: (class attribute) feature. Test these models and try to improve it as you see fit. Discuss your findings and final rational for choosing a particular classification algorithm.[0-40]\n",
    "- Make a classification using your test data, using your final classification algorithm and comment on the accuracy differential between the training and testing set.[0-10]"
   ]
  },
  {
   "cell_type": "code",
   "execution_count": null,
   "id": "5d3f8354",
   "metadata": {},
   "outputs": [],
   "source": []
  }
 ],
 "metadata": {
  "kernelspec": {
   "display_name": "Python 3 (ipykernel)",
   "language": "python",
   "name": "python3"
  },
  "language_info": {
   "codemirror_mode": {
    "name": "ipython",
    "version": 3
   },
   "file_extension": ".py",
   "mimetype": "text/x-python",
   "name": "python",
   "nbconvert_exporter": "python",
   "pygments_lexer": "ipython3",
   "version": "3.9.7"
  }
 },
 "nbformat": 4,
 "nbformat_minor": 5
}
